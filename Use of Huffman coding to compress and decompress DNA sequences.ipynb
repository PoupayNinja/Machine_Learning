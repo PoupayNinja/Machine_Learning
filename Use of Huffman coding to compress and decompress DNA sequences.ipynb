{
 "cells": [
  {
   "cell_type": "markdown",
   "id": "dc0d744e",
   "metadata": {},
   "source": [
    "## Use of Huffman coding to compress and decompress DNA sequences"
   ]
  },
  {
   "cell_type": "markdown",
   "id": "f68ca05d",
   "metadata": {},
   "source": [
    "#### Imports"
   ]
  },
  {
   "cell_type": "code",
   "execution_count": 7,
   "id": "109983a3",
   "metadata": {},
   "outputs": [],
   "source": [
    "import heapq\n",
    "import os\n",
    "import numpy as np\n",
    "import pandas as pd"
   ]
  },
  {
   "cell_type": "markdown",
   "id": "0f27f0f5",
   "metadata": {},
   "source": [
    "#### Dataset"
   ]
  },
  {
   "cell_type": "code",
   "execution_count": 8,
   "id": "584737be",
   "metadata": {},
   "outputs": [
    {
     "name": "stdout",
     "output_type": "stream",
     "text": [
      "(4380, 1)\n"
     ]
    },
    {
     "data": {
      "text/html": [
       "<div>\n",
       "<style scoped>\n",
       "    .dataframe tbody tr th:only-of-type {\n",
       "        vertical-align: middle;\n",
       "    }\n",
       "\n",
       "    .dataframe tbody tr th {\n",
       "        vertical-align: top;\n",
       "    }\n",
       "\n",
       "    .dataframe thead th {\n",
       "        text-align: right;\n",
       "    }\n",
       "</style>\n",
       "<table border=\"1\" class=\"dataframe\">\n",
       "  <thead>\n",
       "    <tr style=\"text-align: right;\">\n",
       "      <th></th>\n",
       "      <th>sequence\\tclass</th>\n",
       "    </tr>\n",
       "  </thead>\n",
       "  <tbody>\n",
       "    <tr>\n",
       "      <th>0</th>\n",
       "      <td>ATGCCCCAACTAAATACTACCGTATGGCCCACCATAATTACCCCCA...</td>\n",
       "    </tr>\n",
       "    <tr>\n",
       "      <th>1</th>\n",
       "      <td>ATGAACGAAAATCTGTTCGCTTCATTCATTGCCCCCACAATCCTAG...</td>\n",
       "    </tr>\n",
       "    <tr>\n",
       "      <th>2</th>\n",
       "      <td>ATGTGTGGCATTTGGGCGCTGTTTGGCAGTGATGATTGCCTTTCTG...</td>\n",
       "    </tr>\n",
       "    <tr>\n",
       "      <th>3</th>\n",
       "      <td>ATGTGTGGCATTTGGGCGCTGTTTGGCAGTGATGATTGCCTTTCTG...</td>\n",
       "    </tr>\n",
       "    <tr>\n",
       "      <th>4</th>\n",
       "      <td>ATGCAACAGCATTTTGAATTTGAATACCAGACCAAAGTGGATGGTG...</td>\n",
       "    </tr>\n",
       "  </tbody>\n",
       "</table>\n",
       "</div>"
      ],
      "text/plain": [
       "                                     sequence\\tclass\n",
       "0  ATGCCCCAACTAAATACTACCGTATGGCCCACCATAATTACCCCCA...\n",
       "1  ATGAACGAAAATCTGTTCGCTTCATTCATTGCCCCCACAATCCTAG...\n",
       "2  ATGTGTGGCATTTGGGCGCTGTTTGGCAGTGATGATTGCCTTTCTG...\n",
       "3  ATGTGTGGCATTTGGGCGCTGTTTGGCAGTGATGATTGCCTTTCTG...\n",
       "4  ATGCAACAGCATTTTGAATTTGAATACCAGACCAAAGTGGATGGTG..."
      ]
     },
     "execution_count": 8,
     "metadata": {},
     "output_type": "execute_result"
    }
   ],
   "source": [
    "data = pd.read_csv('human.txt', sep=\" \")\n",
    "print(data.shape)\n",
    "data.head()"
   ]
  },
  {
   "cell_type": "markdown",
   "id": "e2f30696",
   "metadata": {},
   "source": [
    "#### Two classes"
   ]
  },
  {
   "cell_type": "code",
   "execution_count": 9,
   "id": "04ac18a0",
   "metadata": {},
   "outputs": [],
   "source": [
    "class BinaryTree:\n",
    "    def __init__(self, value, freq):\n",
    "        self.value = value\n",
    "        self.freq = freq\n",
    "        self.left = None\n",
    "        self.right = None\n",
    "        \n",
    "    def __lt__(self, other):\n",
    "        return self.freq < other.freq\n",
    "    \n",
    "    def __eq__(self, other):\n",
    "        return self.freq == other.freq\n",
    "\n",
    "class Huffmancode:\n",
    "    \n",
    "    def __init__(self, path):       \n",
    "        self.path = path\n",
    "        self.__heap = []\n",
    "        self.__code = {}      \n",
    "        self.__reversecode = {}\n",
    "        \n",
    "    def __frequency_from_text(self, text):\n",
    "        freq_dict = {}\n",
    "        for char in text:\n",
    "            if char not in freq_dict:\n",
    "                freq_dict[char] = 0\n",
    "            freq_dict[char] += 1\n",
    "        return freq_dict\n",
    "    \n",
    "    def __build_heap(self, frequency_dict):\n",
    "        for key in frequency_dict:\n",
    "            frequency = frequency_dict[key]\n",
    "            binary_tree_node = BinaryTree(key, frequency)\n",
    "            heapq.heappush(self.__heap, binary_tree_node)\n",
    "    \n",
    "    def __build_binary_tree(self):\n",
    "        while len(self.__heap) > 1:\n",
    "            binary_tree_node_1 = heapq.heappop(self.__heap)\n",
    "            binary_tree_node_2 = heapq.heappop(self.__heap)\n",
    "            sum_of_freq = binary_tree_node_1.freq + binary_tree_node_2.freq\n",
    "            newnode = BinaryTree(None, sum_of_freq)\n",
    "            newnode.left = binary_tree_node_1\n",
    "            newnode.right = binary_tree_node_2\n",
    "            heapq.heappush(self.__heap, newnode)\n",
    "        return\n",
    "    \n",
    "    def __build_tree_code_helper(self, root, curr_bits):\n",
    "        if root is None:\n",
    "            return\n",
    "        if root.value is not None:\n",
    "            self.__code[root.value] = curr_bits\n",
    "            self.__reversecode[curr_bits] = root.value\n",
    "            return \n",
    "        self.__build_tree_code_helper(root.left, curr_bits + '0')\n",
    "        self.__build_tree_code_helper(root.right, curr_bits + '1')\n",
    "    \n",
    "    def __build_tree_code(self):\n",
    "        root = heapq.heappop(self.__heap)\n",
    "        self.__build_tree_code_helper(root, '')\n",
    "    \n",
    "    def __build_encoded_text(self, text):\n",
    "        encoded_text = ''\n",
    "        for char in text:\n",
    "            encoded_text += self.__code[char]            \n",
    "        return encoded_text  \n",
    "    \n",
    "    def __build_padded_text(self, encoded_text):\n",
    "        padding_value = 8 - (len(encoded_text) % 8)\n",
    "        for i in range(padding_value):\n",
    "            encoded_text += '0'\n",
    "        padded_info = \"{0:08b}\".format(padding_value)\n",
    "        padded_text = padded_info + encoded_text\n",
    "        return padded_text\n",
    "    \n",
    "    def __build_byte_array(self, padded_text):\n",
    "        array = []\n",
    "        for i in range(0, len(padded_text), 8):\n",
    "            byte = padded_text[i: i + 8]\n",
    "            array.append(int(byte, 2))\n",
    "        return array        \n",
    "    \n",
    "    def compress(self):\n",
    "        print(\"COMPRESSION FOR YOUR FILE STARTS...\")\n",
    "        \n",
    "        # Access the file and extract text from the file.\n",
    "        #text = 'ATGCCCCAACTAAATACTACCGTATGGCCCACCATAATTACCCCCATACTCC'        \n",
    "        filename, file_extension = os.path.splitext(self.path)\n",
    "        output_path = filename + '.bin'\n",
    "        with open(self.path, 'r+') as file, open(output_path, 'wb') as output:\n",
    "            text = file.read()\n",
    "            text = text.rstrip()            \n",
    "            frequency_dict = self.__frequency_from_text(text)\n",
    "            print(frequency_dict)\n",
    "            # Calculate frequency of each text and store it in frequency dictionary\n",
    "            build_heap = self.__build_heap(frequency_dict)\n",
    "            \n",
    "            # Minimum heap for two minimum frequencies\n",
    "            # Construct binary tree from heap\n",
    "            self.__build_binary_tree()\n",
    "            \n",
    "            # Construct code from binary tree and store it in dictionary\n",
    "            self.__build_tree_code()\n",
    "            \n",
    "            # Construct encoded text\n",
    "            encoded_text = self.__build_encoded_text(text)\n",
    "            \n",
    "            # Padding of encoded text\n",
    "            padded_text = self.__build_padded_text(encoded_text)\n",
    "            \n",
    "            # Return binary file as output\n",
    "            bytes_array = self.__build_byte_array(padded_text)\n",
    "            \n",
    "            final_bytes = bytes(bytes_array)\n",
    "            # bytes() method returns an immutable bytes object initialized with the given size and data\n",
    "            output.write(final_bytes)\n",
    "            \n",
    "        print('compressed successfully')\n",
    "        return output_path\n",
    "\n",
    "    def __remove_padding(self, text):\n",
    "        # padded_info in the form of binary having base of 10 while, we convert it into base 2 format\n",
    "        padded_info = text[:8]\n",
    "        padding_value = int(padded_info, 2)\n",
    "        text = text[8:]\n",
    "        padding_removed_text = text[: -1 * padding_value]\n",
    "        return padding_removed_text\n",
    "    \n",
    "    def __decompress_text(self, text):\n",
    "        decoded_text = ''\n",
    "        current_bits = ''\n",
    "        for bit in text:\n",
    "            current_bits += bit\n",
    "            if current_bits in self.__reversecode:\n",
    "                character = self.__reversecode[current_bits]\n",
    "                decoded_text += character\n",
    "                current_bits = ''\n",
    "        return decoded_text                \n",
    "        \n",
    "    def decompress(self, input_path):\n",
    "        file_name, file_extension = os.path.splitext(input_path)\n",
    "        output_path = file_name + ' decompressed' + '.txt'\n",
    "        with open(input_path, 'rb') as file, open(output_path, 'w') as output:\n",
    "            bit_string = ''\n",
    "            byte = file.read(1)\n",
    "            while byte:\n",
    "                byte = ord(byte)\n",
    "                # ord() function returns an integer representing the Unicode character\n",
    "                bits = bin(byte)[2:].rjust(8, '0')\n",
    "                #The Python String rjust() method, as the name suggests, will justify the string to a certain length \n",
    "                #to its right. Any character (letters, digits, or symbols) is added at the beginning of the string \n",
    "                #(performing Padding), based on the number of places the string shifts or the maximum length decided.\n",
    "                bit_string += bits\n",
    "                byte = file.read(1)\n",
    "            no_padding_text = self.__remove_padding(bit_string)\n",
    "            decompressed_text = self.__decompress_text(no_padding_text)\n",
    "            output.write(decompressed_text)\n",
    "            print('decompressed successfully')\n",
    "        return        \n",
    "        "
   ]
  },
  {
   "cell_type": "markdown",
   "id": "6ae94884",
   "metadata": {},
   "source": [
    "#### Compress"
   ]
  },
  {
   "cell_type": "code",
   "execution_count": 11,
   "id": "80aca629",
   "metadata": {},
   "outputs": [
    {
     "name": "stdout",
     "output_type": "stream",
     "text": [
      "ENTER THE PATH OF YOUR FILE WHICH YOU NEED TO COMPRESS...human.txt\n",
      "COMPRESSION FOR YOUR FILE STARTS...\n",
      "compressed successfully\n"
     ]
    },
    {
     "data": {
      "text/plain": [
       "'human.bin'"
      ]
     },
     "execution_count": 11,
     "metadata": {},
     "output_type": "execute_result"
    }
   ],
   "source": [
    "path = input(\"ENTER THE PATH OF YOUR FILE WHICH YOU NEED TO COMPRESS...\")\n",
    "h = Huffmancode(path)\n",
    "h.compress()"
   ]
  },
  {
   "cell_type": "markdown",
   "id": "97ede557",
   "metadata": {},
   "source": [
    "#### Decompress"
   ]
  },
  {
   "cell_type": "code",
   "execution_count": 10,
   "id": "2e56acc4",
   "metadata": {},
   "outputs": [
    {
     "name": "stdout",
     "output_type": "stream",
     "text": [
      "ENTER THE PATH OF YOUR FILE WHICH YOU NEED TO COMPRESS...human.txt\n",
      "COMPRESSION FOR YOUR FILE STARTS...\n",
      "{'s': 3, 'e': 3, 'q': 1, 'u': 1, 'n': 1, 'c': 2, '\\t': 4381, 'l': 1, 'a': 1, '\\n': 4380, 'A': 1402159, 'T': 1222500, 'G': 1453104, 'C': 1456269, '4': 711, '3': 672, '5': 240, '2': 349, '6': 1343, 'N': 530, '0': 531, '1': 534}\n",
      "compressed successfully\n",
      "decompressed successfully\n"
     ]
    }
   ],
   "source": [
    "path = input(\"ENTER THE PATH OF YOUR FILE WHICH YOU NEED TO COMPRESS...\")\n",
    "h = Huffmancode(path)\n",
    "output_path = h.compress()\n",
    "h.decompress(output_path)"
   ]
  },
  {
   "cell_type": "markdown",
   "id": "77887596",
   "metadata": {},
   "source": [
    "#### Summary"
   ]
  },
  {
   "cell_type": "code",
   "execution_count": 6,
   "id": "a61eeb55",
   "metadata": {},
   "outputs": [
    {
     "name": "stdout",
     "output_type": "stream",
     "text": [
      "Compression ratio:  {3.59}\n",
      "Decompression ratio:  {1.0}\n"
     ]
    }
   ],
   "source": [
    "original_size = os.path.getsize('human.txt')\n",
    "compressed_size = os.path.getsize('human.bin')\n",
    "decompressed_size = os.path.getsize('human decompressed.txt')\n",
    "\n",
    "compression_ratio = np.round(original_size / compressed_size, 2)\n",
    "decompression_ratio = np.round(original_size / decompressed_size, 2)\n",
    "\n",
    "print('Compression ratio: ', {compression_ratio})\n",
    "print('Decompression ratio: ', {decompression_ratio})"
   ]
  },
  {
   "cell_type": "code",
   "execution_count": null,
   "id": "13f703f5",
   "metadata": {},
   "outputs": [],
   "source": []
  }
 ],
 "metadata": {
  "kernelspec": {
   "display_name": "Python 3 (ipykernel)",
   "language": "python",
   "name": "python3"
  },
  "language_info": {
   "codemirror_mode": {
    "name": "ipython",
    "version": 3
   },
   "file_extension": ".py",
   "mimetype": "text/x-python",
   "name": "python",
   "nbconvert_exporter": "python",
   "pygments_lexer": "ipython3",
   "version": "3.9.7"
  }
 },
 "nbformat": 4,
 "nbformat_minor": 5
}
